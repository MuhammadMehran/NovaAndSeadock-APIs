{
 "cells": [
  {
   "cell_type": "code",
   "execution_count": null,
   "metadata": {},
   "outputs": [],
   "source": [
    "import requests"
   ]
  },
  {
   "cell_type": "code",
   "execution_count": null,
   "metadata": {},
   "outputs": [],
   "source": [
    "url_static = 'https://services.marinetraffic.com/api/exportvessels/v:8/024a24ce0ee505990380d52cfd8b78b3d74fc5b6/timespan:10/protocol:csv'\n",
    "r = requests.get(url_static)\n",
    "con = r.text\n",
    "with open('MarineTraffic/StaticApi.csv','w') as f:\n",
    "    f.write(con)"
   ]
  },
  {
   "cell_type": "code",
   "execution_count": null,
   "metadata": {},
   "outputs": [],
   "source": [
    "url_dynamic = 'https://services.marinetraffic.com/api/exportvessels/v:8/024a24ce0ee505990380d52cfd8b78b3d74fc5b6/timespan:10/protocol:csv'\n",
    "r = requests.get(url_dynamic)\n",
    "con = r.text\n",
    "with open('MarineTraffic/DynamicApi.csv','w') as f:\n",
    "    f.write(con)"
   ]
  },
  {
   "cell_type": "code",
   "execution_count": null,
   "metadata": {},
   "outputs": [],
   "source": [
    "url_pos_in_port = 'https://services.marinetraffic.com/api/exportvessels/v:8/024a24ce0ee505990380d52cfd8b78b3d74fc5b6/timespan:10/protocol:csv'\n",
    "r = requests.get(url_pos_in_port)\n",
    "con = r.text\n",
    "with open('MarineTraffic/VesselPositoninPortApi.csv','w') as f:\n",
    "    f.write(con)"
   ]
  },
  {
   "cell_type": "markdown",
   "metadata": {},
   "source": [
    "The Following methods do not work.. Becuase the serives are not avaiable on this KEY"
   ]
  },
  {
   "cell_type": "code",
   "execution_count": null,
   "metadata": {},
   "outputs": [],
   "source": [
    "url_port_call_1 = 'https://services.marinetraffic.com/api/portcalls/v:4/024a24ce0ee505990380d52cfd8b78b3d74fc5b6/portid:275/timespan:2880'\n",
    "r = requests.get(url_port_call_1)\n",
    "con = r.text\n",
    "with open('MarineTraffic/PortCallApi1.csv','w') as f:\n",
    "    f.write(con)"
   ]
  },
  {
   "cell_type": "code",
   "execution_count": null,
   "metadata": {},
   "outputs": [],
   "source": [
    "url_port_call_2 = 'https://services.marinetraffic.com/api/portcalls/v:4/024a24ce0ee505990380d52cfd8b78b3d74fc5b6/portid:2306/timespan:2880'\n",
    "r = requests.get(url_port_call_2)\n",
    "con = r.text\n",
    "with open('MarineTraffic/PortCallApi2.csv','w') as f:\n",
    "    f.write(con)"
   ]
  },
  {
   "cell_type": "code",
   "execution_count": null,
   "metadata": {},
   "outputs": [],
   "source": [
    "url_berth_call_1 = 'https://services.marinetraffic.com/api/berth-calls/024a24ce0ee505990380d52cfd8b78b3d74fc5b6/portid:275/timespan:20'\n",
    "r = requests.get(url_berth_call_1)\n",
    "con = r.text\n",
    "with open('MarineTraffic/BerthCallApi1.csv','w') as f:\n",
    "    f.write(con)"
   ]
  },
  {
   "cell_type": "code",
   "execution_count": null,
   "metadata": {},
   "outputs": [],
   "source": [
    "url_berth_call__2 = 'https://services.marinetraffic.com/api/berth-calls/024a24ce0ee505990380d52cfd8b78b3d74fc5b6/portid:2306/timespan:20'\n",
    "r = requests.get(url_berth_call__2)\n",
    "con = r.text\n",
    "with open('MarineTraffic/BerthCallApi1.csv','w') as f:\n",
    "    f.write(con)"
   ]
  },
  {
   "cell_type": "code",
   "execution_count": null,
   "metadata": {},
   "outputs": [],
   "source": [
    "expected_arrivals = 'https://services.marinetraffic.com/api/expectedarrivals/v:3/024a24ce0ee505990380d52cfd8b78b3d74fc5b6/timespan:2/portid:275/protocol:csv'\n",
    "r = requests.get(expected_arrivals)\n",
    "con = r.text\n",
    "con"
   ]
  },
  {
   "cell_type": "code",
   "execution_count": null,
   "metadata": {},
   "outputs": [],
   "source": [
    "single_vessel = 'https://services.marinetraffic.com/api/exportvessel/v:5/024a24ce0ee505990380d52cfd8b78b3d74fc5b6/timespan:20/mmsi:310627000/protocol:csv'\n",
    "r = requests.get(single_vessel)\n",
    "con = r.text\n",
    "con"
   ]
  }
 ],
 "metadata": {
  "kernelspec": {
   "display_name": "Python 3",
   "language": "python",
   "name": "python3"
  },
  "language_info": {
   "codemirror_mode": {
    "name": "ipython",
    "version": 3
   },
   "file_extension": ".py",
   "mimetype": "text/x-python",
   "name": "python",
   "nbconvert_exporter": "python",
   "pygments_lexer": "ipython3",
   "version": "3.7.5"
  }
 },
 "nbformat": 4,
 "nbformat_minor": 2
}
