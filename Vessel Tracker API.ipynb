{
 "cells": [
  {
   "cell_type": "code",
   "execution_count": null,
   "metadata": {},
   "outputs": [],
   "source": [
    "import requests\n",
    "from pandas.io.json import json_normalize\n",
    "import json\n",
    "import time"
   ]
  },
  {
   "cell_type": "code",
   "execution_count": null,
   "metadata": {},
   "outputs": [],
   "source": [
    "def flatten_json(y):\n",
    "    out = {}\n",
    "\n",
    "    def flatten(x, name=''):\n",
    "        if type(x) is dict:\n",
    "            for a in x:\n",
    "                flatten(x[a], name + a + '_')\n",
    "        elif type(x) is list:\n",
    "            i = 0\n",
    "            for a in x:\n",
    "                flatten(a, name + str(i) + '_')\n",
    "                i += 1\n",
    "        else:\n",
    "            out[name[:-1]] = x\n",
    "\n",
    "    flatten(y)\n",
    "    return out"
   ]
  },
  {
   "cell_type": "code",
   "execution_count": null,
   "metadata": {},
   "outputs": [],
   "source": [
    "def get_data_api(url, name, api):\n",
    "    r = requests.get(url = url,\n",
    "                 headers={'Authorization': 'eda0f580-a441-469e-8934-3a54ef5d1650'}) \n",
    "    data = r.json()\n",
    "#     print([data])\n",
    "    ts = time.time()\n",
    "#     st = datetime.datetime.fromtimestamp(ts).strftime('%Y-%m-%d %H:%M:%S')\n",
    "    with open('VesselTracker/'+name+api+str(ts)+'.json', 'w') as f:\n",
    "        json.dump(data, f)\n",
    "    df = json_normalize(flatten_json(data), max_level=10)\n",
    "    df.to_csv('VesselTracker/'+name+api+str(ts)+'.csv', encoding='utf-8', index=False)"
   ]
  },
  {
   "cell_type": "code",
   "execution_count": null,
   "metadata": {},
   "outputs": [],
   "source": [
    "URLS_ALM = [\n",
    "    'https://api.vesseltracker.com/api/v1/ports/expected?locode=ESLEI',\n",
    "    'https://api.vesseltracker.com/api/v1/ports/inport?locode=ESLEI',\n",
    "    'https://api.vesseltracker.com/api/v1/weather/forecast?lon=36.8340&lat=2.4637'\n",
    "]\n",
    "\n",
    "URLS_MAL = [\n",
    "    'https://api.vesseltracker.com/api/v1/ports/expected?locode=ESAGP',\n",
    "    'https://api.vesseltracker.com/api/v1/ports/inport?locode=ESAGP',\n",
    "    'https://api.vesseltracker.com/api/v1/weather/forecast?lon=36.7167&lat=4.4260'\n",
    "]\n",
    "API_NAMES = ['Expected', 'AIS', 'WeatherForecast']"
   ]
  },
  {
   "cell_type": "code",
   "execution_count": null,
   "metadata": {},
   "outputs": [],
   "source": [
    "for i in range(len(API_NAMES)):\n",
    "    print(API_NAMES[i])\n",
    "    get_data_api(URLS_ALM[i],'Almeria',API_NAMES[i])\n",
    "    get_data_api(URLS_MAL[i],'Malgala',API_NAMES[i])"
   ]
  }
 ],
 "metadata": {
  "kernelspec": {
   "display_name": "Python 3",
   "language": "python",
   "name": "python3"
  },
  "language_info": {
   "codemirror_mode": {
    "name": "ipython",
    "version": 3
   },
   "file_extension": ".py",
   "mimetype": "text/x-python",
   "name": "python",
   "nbconvert_exporter": "python",
   "pygments_lexer": "ipython3",
   "version": "3.7.5"
  }
 },
 "nbformat": 4,
 "nbformat_minor": 2
}
